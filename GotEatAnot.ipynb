{
 "cells": [
  {
   "cell_type": "code",
   "execution_count": 3,
   "id": "54b06ae3",
   "metadata": {},
   "outputs": [
    {
     "name": "stdout",
     "output_type": "stream",
     "text": [
      "Requirement already satisfied: pandas in c:\\users\\tay han\\anaconda3\\lib\\site-packages (1.5.3)\n",
      "Requirement already satisfied: numpy>=1.20.3 in c:\\users\\tay han\\anaconda3\\lib\\site-packages (from pandas) (1.21.6)\n",
      "Requirement already satisfied: pytz>=2020.1 in c:\\users\\tay han\\anaconda3\\lib\\site-packages (from pandas) (2023.3)\n",
      "Requirement already satisfied: python-dateutil>=2.8.1 in c:\\users\\tay han\\anaconda3\\lib\\site-packages (from pandas) (2.8.2)\n",
      "Requirement already satisfied: six>=1.5 in c:\\users\\tay han\\anaconda3\\lib\\site-packages (from python-dateutil>=2.8.1->pandas) (1.16.0)\n",
      "Note: you may need to restart the kernel to use updated packages.\n"
     ]
    }
   ],
   "source": [
    "#pip install pandas"
   ]
  },
  {
   "cell_type": "code",
   "execution_count": null,
   "id": "844cc794",
   "metadata": {
    "scrolled": true
   },
   "outputs": [],
   "source": [
    "#pip install requests"
   ]
  },
  {
   "cell_type": "code",
   "execution_count": 12,
   "id": "dd34f896",
   "metadata": {},
   "outputs": [
    {
     "name": "stdout",
     "output_type": "stream",
     "text": [
      "June 03, 2023\n",
      "**Tay Han**\n",
      "Will be having Lunch but NOT Dinner on June 03, 2023. Reason: Going with John for dinner\n",
      "   Scheduled Datetime  Lunch   Dinnner          Reason for Absence  \\\n",
      "0 2023-06-03 23:55:00    True    False  Going with John for dinner   \n",
      "\n",
      "   Unnamed: 4  Unnamed: 5  Unnamed: 6  Unnamed: 7  Unnamed: 8  Unnamed: 9  \\\n",
      "0         NaN         NaN         NaN         NaN         NaN         NaN   \n",
      "\n",
      "   ...  Unnamed: 17  Unnamed: 18  Unnamed: 19  Unnamed: 20  Unnamed: 21  \\\n",
      "0  ...          NaN          NaN          NaN          NaN          NaN   \n",
      "\n",
      "   Unnamed: 22  Unnamed: 23  Unnamed: 24  Unnamed: 25  \\\n",
      "0          NaN          NaN          NaN          NaN   \n",
      "\n",
      "                                              status  \n",
      "0  {'ok': True, 'result': {'message_id': 39, 'fro...  \n",
      "\n",
      "[1 rows x 27 columns]\n"
     ]
    }
   ],
   "source": [
    "#Creating the code to send message at specific timings from the google sheet\n",
    "import pandas as pd\n",
    "import requests\n",
    "import datetime\n",
    "import time\n",
    "import numpy as np \n",
    "\n",
    "#while True:\n",
    "sheet_id = \"1c9X3cFnclXJVlq95cs4JoclrhS4qBauXL_EU_83A27U\"\n",
    "url = f\"https://docs.google.com/spreadsheets/d/{sheet_id}/gviz/tq?tqx=out:csv\"\n",
    "\n",
    "df = pd.read_csv(url)\n",
    "# parse the datetime information into the data frame\n",
    "df[\"Scheduled Datetime\"] = pd.to_datetime(df[\"Scheduled Datetime\"])\n",
    "df[\"Reason for Absence\"] = df[\"Reason for Absence\"].fillna(\"No reason provided\")\n",
    "\n",
    "today_date = datetime.date.today().strftime(\"%B %d, %Y\")\n",
    "print(today_date)\n",
    "\n",
    "current_time = datetime.datetime.now()\n",
    "#print(current_time)\n",
    "\n",
    "minute_before = current_time - datetime.timedelta(minutes = 1)\n",
    "#print(minute_before)\n",
    "\n",
    "df = df[(df[\"Scheduled Datetime\"] < current_time) & (df[\"Scheduled Datetime\"] > minute_before)]\n",
    "#print(df)\n",
    "\n",
    "def send_message(row):\n",
    "    bot_id = \"6098576625:AAHpIQn0IngwLEIfliNXA0292gP2XPfvLqg\"\n",
    "    chat_id = \"@gotEatAnot\"\n",
    "    # 4 cases to consider\n",
    "    message = f\"**Tay Han**\\n\"\n",
    "    if row[1] and row[2]:\n",
    "        message += f\"Will be having Lunch and Dinner on {today_date}\"\n",
    "    elif row[1]:\n",
    "        message += f\"Will be having Lunch but NOT Dinner on {today_date}. Reason: \" + row[3]\n",
    "    elif row[2]:\n",
    "        message += f\"Will be having Dinner but NOT Lunch on {today_date}. Reason: \" + row[3]\n",
    "    else:\n",
    "        message += f\"Will NOT be having Lunch and Dinner on {today_date}. Reason: \" + row[3]\n",
    "    \n",
    "    url = f\"https://api.telegram.org/bot{bot_id}/sendMessage?chat_id={chat_id}&text={message}\"\n",
    "    print(message)\n",
    "    return requests.get(url).json()\n",
    "    \n",
    "if not df.empty:\n",
    "    df['status'] = df.apply(send_message, axis = 1)\n",
    "\n",
    "# time.sleep(60)\n"
   ]
  }
 ],
 "metadata": {
  "kernelspec": {
   "display_name": "Python 3 (ipykernel)",
   "language": "python",
   "name": "python3"
  },
  "language_info": {
   "codemirror_mode": {
    "name": "ipython",
    "version": 3
   },
   "file_extension": ".py",
   "mimetype": "text/x-python",
   "name": "python",
   "nbconvert_exporter": "python",
   "pygments_lexer": "ipython3",
   "version": "3.9.13"
  }
 },
 "nbformat": 4,
 "nbformat_minor": 5
}
